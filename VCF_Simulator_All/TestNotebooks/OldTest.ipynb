{
 "cells": [
  {
   "cell_type": "code",
   "execution_count": 1,
   "id": "26daa740-bc12-43d3-96eb-3d59ed764333",
   "metadata": {},
   "outputs": [],
   "source": [
    "import msprime\n",
    "import numpy as np\n",
    "import sys\n",
    "import os\n",
    "import time\n",
    "from IPython.display import SVG, display"
   ]
  },
  {
   "cell_type": "code",
   "execution_count": 2,
   "id": "383f7bb5-b606-4ed4-a030-fedefbe7278c",
   "metadata": {},
   "outputs": [],
   "source": [
    "def make_site_mask(size, percentmissing = 0, seed=0):\n",
    "    \n",
    "    temp_percent = percentmissing/100 #takes percent of user input and converts it to actual percentage\n",
    "    temp_var = size*temp_percent  #finds amount of VCF's that need to be taken out\n",
    "    counter = range(int(temp_var)) #Makes a counter to traverse VCF's\n",
    "    temp_array = np.zeros(size, dtype = int) #Makes array of 0's \n",
    "    rng = np.random.default_rng(seed) #Makes random number\n",
    "    rints = rng.integers(low=0, high=size) #Generates random number between 0 and the amount of sites\n",
    "    \n",
    "    rand_array = np.empty(size, dtype = int) #Makes empty array to store random variables\n",
    "    \n",
    "    \n",
    "    print('Total Amount:', temp_array.size)  #Shows total amount of sites\n",
    "    \n",
    "    print('----------------')\n",
    "    \n",
    "    for x in counter:\n",
    "        rints = rng.integers(low=0, high=size) #Generates random number between 0 and the amount of sites\n",
    "        while rints in rand_array:\n",
    "            rints = rng.integers(low=0, high=size) #Looks through array to find if the random generated number has already been repeated\n",
    "        rand_array[x] = rints #stores random number in array\n",
    "        temp_array[rints] = 1 #Changes value to 1 which deletes the value\n",
    "\n",
    "    print('Amount Missing:', np.sum(temp_array))\n",
    "    \n",
    "    print('----------------')\n",
    "    \n",
    "    return temp_array\n"
   ]
  },
  {
   "cell_type": "code",
   "execution_count": 3,
   "id": "3c046ec9-348e-42f6-975c-5152ddc4d306",
   "metadata": {},
   "outputs": [],
   "source": [
    "def make_missing_vcf(ts, percentmissing = 0, outputfile = ''):\n",
    "    \n",
    "    site_mask = make_site_mask(ts.num_sites, percentmissing, 1234) #Makes sites from the number of sites in ts\n",
    "    \n",
    "    with open(outputfile, \"w\") as f:\n",
    "        ts.write_vcf(f, site_mask=site_mask)"
   ]
  },
  {
   "cell_type": "code",
   "execution_count": 4,
   "id": "6f905d4a-417a-4e8d-b813-3f85882a912f",
   "metadata": {},
   "outputs": [],
   "source": [
    "def make_population_file(pop_num = 20, pop_file = ''):\n",
    "\n",
    "    file = open(pop_file, \"a\")\n",
    "\n",
    "    for x in range(0, pop_num):\n",
    "        file.write(\"tsk_\"+ str(x) + \"\\t1\\n\")\n",
    "    file.close()"
   ]
  },
  {
   "cell_type": "code",
   "execution_count": 5,
   "id": "47b50c38-1d84-4176-a7c8-f6b1bd0da074",
   "metadata": {},
   "outputs": [],
   "source": [
    "def simulate_vcfs(site_size = 10000, percentmissing = 0, seed = 0, outputfile = '', pop_num = 20):\n",
    "    ts = msprime.sim_ancestry(pop_num, random_seed= seed, sequence_length = site_size)\n",
    "\n",
    "    #sequence length and site size have to be set to SAME number\n",
    "\n",
    "    #sets number of sites\n",
    "    \n",
    "    rlg = np.random.default_rng(seed) #random letter generator \n",
    "\n",
    "    rchar = rlg.integers(low=0, high=4) #randomly choses number from 0 to 3 which represents genome\n",
    "\n",
    "    difference_counter = range(site_size) \n",
    "\n",
    "    tables = ts.dump_tables() \n",
    "\n",
    "    for x in difference_counter: #Randomly assings reference genome for each site\n",
    "    \n",
    "        rchar = rlg.integers(low=0, high=4)\n",
    "        \n",
    "        if rchar == 0:\n",
    "            letter = \"A\"\n",
    "        \n",
    "        elif rchar == 1:\n",
    "            letter = \"C\"\n",
    "        \n",
    "        elif rchar == 2:\n",
    "            letter = \"G\"\n",
    "        \n",
    "        elif rchar == 3:\n",
    "            letter = \"T\"\n",
    "        \n",
    "        tables.sites.add_row(x, \"A\") \n",
    "    \n",
    "    ts = tables.tree_sequence()\n",
    "\n",
    "    ts = msprime.sim_mutations(ts, rate=0.1, random_seed= seed) #Mutates the sites at random\n",
    "\n",
    "    make_missing_vcf(ts, percentmissing, outputfile)\n",
    "\n",
    "    #os.system('cat my.vcf | grep \"^#\" > vcf_new.vcf')\n",
    "    #os.system('cat my.vcf | grep -v \"^#\" | awk -v s=1 \\'{$2=$2+s; $3=$3+s; print}\\' >> vcf_new.vcf')\n",
    "    #os.system('rm my.vcf')"
   ]
  },
  {
   "cell_type": "code",
   "execution_count": 6,
   "id": "847f06f8-c48b-478f-97c6-05940a212c0b",
   "metadata": {},
   "outputs": [],
   "source": [
    "def simulate_pix(site_size = 10000, percentmissing = 0, seed = 0, outputfile = '', pop_num = 20, pop_file = '', folder = ''):\n",
    "    \n",
    "    defaultdirectory = os.getcwd()\n",
    "    \n",
    "    newfolder = folder\n",
    "    \n",
    "    os.mkdir(newfolder) \n",
    "    os.chdir(newfolder) \n",
    "    \n",
    "    make_population_file(pop_num, pop_file)\n",
    "    simulate_vcfs(site_size, percentmissing, seed, outputfile, pop_num)\n",
    "    \n",
    "    command1 = 'bgzip ' + outputfile\n",
    "    command2 = 'tabix -f -p vcf -0 ' + outputfile + '.gz'\n",
    "    command3 = 'pixy --stats pi --vcf ' + outputfile + '.gz --populations '+ pop_file + ' --window_size 10000'\n",
    "    \n",
    "    \n",
    "    os.system(command1)\n",
    "    os.system(command2)\n",
    "    os.system(command3)\n",
    "    \n",
    "    os.chdir(defaultdirectory) "
   ]
  },
  {
   "cell_type": "code",
   "execution_count": 7,
   "id": "3d39b3f3-7ab2-491f-a97b-21e4ea185555",
   "metadata": {},
   "outputs": [
    {
     "name": "stdout",
     "output_type": "stream",
     "text": [
      "Total Amount: 10000\n",
      "----------------\n",
      "Amount Missing: 2000\n",
      "----------------\n",
      "[pixy] pixy 1.2.7.beta1\n",
      "[pixy] See documentation at https://pixy.readthedocs.io/en/latest/\n",
      "\n",
      "[pixy] Validating VCF and input parameters...\n",
      "[pixy] Checking write access...OK\n",
      "[pixy] Checking CPU configuration...OK\n",
      "[pixy] Checking for invariant sites...OK\n",
      "[pixy] Checking chromosome data...OK\n",
      "[pixy] Checking intervals/sites...OK\n",
      "[pixy] Checking sample data...OK\n",
      "[pixy] All initial checks past!\n",
      "\n",
      "[pixy] Preparing for calculation of summary statistics: pi\n",
      "[pixy] Data set contains 1 population(s), 1 chromosome(s), and 20 sample(s)\n",
      "[pixy] Window size: 10000 bp\n",
      "\n",
      "[pixy] Started calculations at 12:10:41 on 2022-09-08\n",
      "[pixy] Using 1 out of 4 available CPU cores\n",
      "\n",
      "[pixy] Processing chromosome/contig 1...\n",
      "[pixy] Calculating statistics for region 1:1-9999...\n",
      "\n",
      "[pixy] All calculations complete at 12:10:42 on 2022-09-08\n",
      "[pixy] Time elapsed: 00:00:00\n",
      "[pixy] Output files written to: /Users/paimongoulart/MyBetterProject/MyProject/myvcfholder/\n",
      "\n",
      "[pixy] If you use pixy in your research, please cite the following paper:\n",
      "[pixy] Korunes, KL and K Samuk. pixy: Unbiased estimation of nucleotide diversity and divergence in the presence of missing data. Mol Ecol Resour. 2021 Jan 16. doi: 10.1111/1755-0998.13326.\n"
     ]
    }
   ],
   "source": [
    "seed = 1000\n",
    "foldername = 'folder'\n",
    "\n",
    "for x in range(10):\n",
    "    simulate_pix(10000, 20, seed, 'my.vcf', 20, 'population.txt', foldername)\n",
    "    foldername = 'folder' + str(x)\n",
    "    seed+=1"
   ]
  },
  {
   "cell_type": "code",
   "execution_count": 7,
   "id": "08928f38-8e05-46b8-a9ee-37e57409f34d",
   "metadata": {},
   "outputs": [
    {
     "data": {
      "text/plain": [
       "0"
      ]
     },
     "execution_count": 7,
     "metadata": {},
     "output_type": "execute_result"
    }
   ],
   "source": []
  },
  {
   "cell_type": "code",
   "execution_count": null,
   "id": "e6dcc0e0-000b-4f4f-914f-57750713c4a7",
   "metadata": {},
   "outputs": [],
   "source": []
  }
 ],
 "metadata": {
  "kernelspec": {
   "display_name": "Python 3 (ipykernel)",
   "language": "python",
   "name": "python3"
  },
  "language_info": {
   "codemirror_mode": {
    "name": "ipython",
    "version": 3
   },
   "file_extension": ".py",
   "mimetype": "text/x-python",
   "name": "python",
   "nbconvert_exporter": "python",
   "pygments_lexer": "ipython3",
   "version": "3.8.13"
  }
 },
 "nbformat": 4,
 "nbformat_minor": 5
}
